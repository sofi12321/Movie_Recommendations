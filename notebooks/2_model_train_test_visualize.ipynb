{
  "cells": [
    {
      "cell_type": "markdown",
      "metadata": {
        "id": "N2hSslFyvgS4"
      },
      "source": [
        "# Model implementation, training, testing and results visualization"
      ]
    },
    {
      "cell_type": "markdown",
      "metadata": {
        "id": "yxi7qUoUwHet"
      },
      "source": [
        "# Data downloading"
      ]
    },
    {
      "cell_type": "code",
      "execution_count": null,
      "metadata": {
        "id": "GtOCdr6y8B5V"
      },
      "outputs": [],
      "source": [
        "# Download the data\n",
        "%%capture\n",
        "!wget https://files.grouplens.org/datasets/movielens/ml-100k.zip\n",
        "!unzip ml-100k.zip\n",
        "!pip install -U sentence-transformers"
      ]
    },
    {
      "cell_type": "code",
      "execution_count": null,
      "metadata": {
        "id": "a7vdTa2-A6mK"
      },
      "outputs": [],
      "source": [
        "from sklearn.preprocessing import StandardScaler, MinMaxScaler\n",
        "import datetime\n",
        "import matplotlib.pyplot as plt\n",
        "import pandas as pd\n",
        "import numpy as np\n",
        "import torch\n",
        "import random\n",
        "from sklearn.metrics import mean_absolute_error, mean_squared_error"
      ]
    },
    {
      "cell_type": "code",
      "execution_count": null,
      "metadata": {
        "id": "R4Az8v2PorQE"
      },
      "outputs": [],
      "source": [
        "def set_seed(seed):\n",
        "  random.seed(seed)\n",
        "  np.random.seed(seed)\n",
        "  torch.manual_seed(seed)\n",
        "  if torch.cuda.is_available():\n",
        "    torch.cuda.manual_seed_all(seed)\n",
        "\n",
        "set_seed(21)"
      ]
    },
    {
      "cell_type": "code",
      "execution_count": null,
      "metadata": {
        "colab": {
          "base_uri": "https://localhost:8080/"
        },
        "id": "OLAWvzCyYLWH",
        "outputId": "4eec0947-f6a5-4d5f-aa88-9493fd68a699"
      },
      "outputs": [
        {
          "data": {
            "text/html": [
              "\n",
              "  <div id=\"df-1aa1bf80-f1fa-46b3-847e-469325d100a3\" class=\"colab-df-container\">\n",
              "    <div>\n",
              "<style scoped>\n",
              "    .dataframe tbody tr th:only-of-type {\n",
              "        vertical-align: middle;\n",
              "    }\n",
              "\n",
              "    .dataframe tbody tr th {\n",
              "        vertical-align: top;\n",
              "    }\n",
              "\n",
              "    .dataframe thead th {\n",
              "        text-align: right;\n",
              "    }\n",
              "</style>\n",
              "<table border=\"1\" class=\"dataframe\">\n",
              "  <thead>\n",
              "    <tr style=\"text-align: right;\">\n",
              "      <th></th>\n",
              "      <th>user_id</th>\n",
              "      <th>item_id</th>\n",
              "      <th>rating</th>\n",
              "      <th>timestamp</th>\n",
              "    </tr>\n",
              "  </thead>\n",
              "  <tbody>\n",
              "    <tr>\n",
              "      <th>0</th>\n",
              "      <td>1</td>\n",
              "      <td>1</td>\n",
              "      <td>5</td>\n",
              "      <td>874965758</td>\n",
              "    </tr>\n",
              "    <tr>\n",
              "      <th>1</th>\n",
              "      <td>1</td>\n",
              "      <td>2</td>\n",
              "      <td>3</td>\n",
              "      <td>876893171</td>\n",
              "    </tr>\n",
              "    <tr>\n",
              "      <th>2</th>\n",
              "      <td>1</td>\n",
              "      <td>3</td>\n",
              "      <td>4</td>\n",
              "      <td>878542960</td>\n",
              "    </tr>\n",
              "    <tr>\n",
              "      <th>3</th>\n",
              "      <td>1</td>\n",
              "      <td>4</td>\n",
              "      <td>3</td>\n",
              "      <td>876893119</td>\n",
              "    </tr>\n",
              "    <tr>\n",
              "      <th>4</th>\n",
              "      <td>1</td>\n",
              "      <td>5</td>\n",
              "      <td>3</td>\n",
              "      <td>889751712</td>\n",
              "    </tr>\n",
              "    <tr>\n",
              "      <th>...</th>\n",
              "      <td>...</td>\n",
              "      <td>...</td>\n",
              "      <td>...</td>\n",
              "      <td>...</td>\n",
              "    </tr>\n",
              "    <tr>\n",
              "      <th>90565</th>\n",
              "      <td>943</td>\n",
              "      <td>1047</td>\n",
              "      <td>2</td>\n",
              "      <td>875502146</td>\n",
              "    </tr>\n",
              "    <tr>\n",
              "      <th>90566</th>\n",
              "      <td>943</td>\n",
              "      <td>1074</td>\n",
              "      <td>4</td>\n",
              "      <td>888640250</td>\n",
              "    </tr>\n",
              "    <tr>\n",
              "      <th>90567</th>\n",
              "      <td>943</td>\n",
              "      <td>1188</td>\n",
              "      <td>3</td>\n",
              "      <td>888640250</td>\n",
              "    </tr>\n",
              "    <tr>\n",
              "      <th>90568</th>\n",
              "      <td>943</td>\n",
              "      <td>1228</td>\n",
              "      <td>3</td>\n",
              "      <td>888640275</td>\n",
              "    </tr>\n",
              "    <tr>\n",
              "      <th>90569</th>\n",
              "      <td>943</td>\n",
              "      <td>1330</td>\n",
              "      <td>3</td>\n",
              "      <td>888692465</td>\n",
              "    </tr>\n",
              "  </tbody>\n",
              "</table>\n",
              "<p>90570 rows × 4 columns</p>\n",
              "</div>\n",
              "    <div class=\"colab-df-buttons\">\n",
              "\n",
              "  <div class=\"colab-df-container\">\n",
              "    <button class=\"colab-df-convert\" onclick=\"convertToInteractive('df-1aa1bf80-f1fa-46b3-847e-469325d100a3')\"\n",
              "            title=\"Convert this dataframe to an interactive table.\"\n",
              "            style=\"display:none;\">\n",
              "\n",
              "  <svg xmlns=\"http://www.w3.org/2000/svg\" height=\"24px\" viewBox=\"0 -960 960 960\">\n",
              "    <path d=\"M120-120v-720h720v720H120Zm60-500h600v-160H180v160Zm220 220h160v-160H400v160Zm0 220h160v-160H400v160ZM180-400h160v-160H180v160Zm440 0h160v-160H620v160ZM180-180h160v-160H180v160Zm440 0h160v-160H620v160Z\"/>\n",
              "  </svg>\n",
              "    </button>\n",
              "\n",
              "  <style>\n",
              "    .colab-df-container {\n",
              "      display:flex;\n",
              "      gap: 12px;\n",
              "    }\n",
              "\n",
              "    .colab-df-convert {\n",
              "      background-color: #E8F0FE;\n",
              "      border: none;\n",
              "      border-radius: 50%;\n",
              "      cursor: pointer;\n",
              "      display: none;\n",
              "      fill: #1967D2;\n",
              "      height: 32px;\n",
              "      padding: 0 0 0 0;\n",
              "      width: 32px;\n",
              "    }\n",
              "\n",
              "    .colab-df-convert:hover {\n",
              "      background-color: #E2EBFA;\n",
              "      box-shadow: 0px 1px 2px rgba(60, 64, 67, 0.3), 0px 1px 3px 1px rgba(60, 64, 67, 0.15);\n",
              "      fill: #174EA6;\n",
              "    }\n",
              "\n",
              "    .colab-df-buttons div {\n",
              "      margin-bottom: 4px;\n",
              "    }\n",
              "\n",
              "    [theme=dark] .colab-df-convert {\n",
              "      background-color: #3B4455;\n",
              "      fill: #D2E3FC;\n",
              "    }\n",
              "\n",
              "    [theme=dark] .colab-df-convert:hover {\n",
              "      background-color: #434B5C;\n",
              "      box-shadow: 0px 1px 3px 1px rgba(0, 0, 0, 0.15);\n",
              "      filter: drop-shadow(0px 1px 2px rgba(0, 0, 0, 0.3));\n",
              "      fill: #FFFFFF;\n",
              "    }\n",
              "  </style>\n",
              "\n",
              "    <script>\n",
              "      const buttonEl =\n",
              "        document.querySelector('#df-1aa1bf80-f1fa-46b3-847e-469325d100a3 button.colab-df-convert');\n",
              "      buttonEl.style.display =\n",
              "        google.colab.kernel.accessAllowed ? 'block' : 'none';\n",
              "\n",
              "      async function convertToInteractive(key) {\n",
              "        const element = document.querySelector('#df-1aa1bf80-f1fa-46b3-847e-469325d100a3');\n",
              "        const dataTable =\n",
              "          await google.colab.kernel.invokeFunction('convertToInteractive',\n",
              "                                                    [key], {});\n",
              "        if (!dataTable) return;\n",
              "\n",
              "        const docLinkHtml = 'Like what you see? Visit the ' +\n",
              "          '<a target=\"_blank\" href=https://colab.research.google.com/notebooks/data_table.ipynb>data table notebook</a>'\n",
              "          + ' to learn more about interactive tables.';\n",
              "        element.innerHTML = '';\n",
              "        dataTable['output_type'] = 'display_data';\n",
              "        await google.colab.output.renderOutput(dataTable, element);\n",
              "        const docLink = document.createElement('div');\n",
              "        docLink.innerHTML = docLinkHtml;\n",
              "        element.appendChild(docLink);\n",
              "      }\n",
              "    </script>\n",
              "  </div>\n",
              "\n",
              "\n",
              "<div id=\"df-7a6a7583-2c28-4fe4-a087-d2a40cac280c\">\n",
              "  <button class=\"colab-df-quickchart\" onclick=\"quickchart('df-7a6a7583-2c28-4fe4-a087-d2a40cac280c')\"\n",
              "            title=\"Suggest charts\"\n",
              "            style=\"display:none;\">\n",
              "\n",
              "<svg xmlns=\"http://www.w3.org/2000/svg\" height=\"24px\"viewBox=\"0 0 24 24\"\n",
              "     width=\"24px\">\n",
              "    <g>\n",
              "        <path d=\"M19 3H5c-1.1 0-2 .9-2 2v14c0 1.1.9 2 2 2h14c1.1 0 2-.9 2-2V5c0-1.1-.9-2-2-2zM9 17H7v-7h2v7zm4 0h-2V7h2v10zm4 0h-2v-4h2v4z\"/>\n",
              "    </g>\n",
              "</svg>\n",
              "  </button>\n",
              "\n",
              "<style>\n",
              "  .colab-df-quickchart {\n",
              "      --bg-color: #E8F0FE;\n",
              "      --fill-color: #1967D2;\n",
              "      --hover-bg-color: #E2EBFA;\n",
              "      --hover-fill-color: #174EA6;\n",
              "      --disabled-fill-color: #AAA;\n",
              "      --disabled-bg-color: #DDD;\n",
              "  }\n",
              "\n",
              "  [theme=dark] .colab-df-quickchart {\n",
              "      --bg-color: #3B4455;\n",
              "      --fill-color: #D2E3FC;\n",
              "      --hover-bg-color: #434B5C;\n",
              "      --hover-fill-color: #FFFFFF;\n",
              "      --disabled-bg-color: #3B4455;\n",
              "      --disabled-fill-color: #666;\n",
              "  }\n",
              "\n",
              "  .colab-df-quickchart {\n",
              "    background-color: var(--bg-color);\n",
              "    border: none;\n",
              "    border-radius: 50%;\n",
              "    cursor: pointer;\n",
              "    display: none;\n",
              "    fill: var(--fill-color);\n",
              "    height: 32px;\n",
              "    padding: 0;\n",
              "    width: 32px;\n",
              "  }\n",
              "\n",
              "  .colab-df-quickchart:hover {\n",
              "    background-color: var(--hover-bg-color);\n",
              "    box-shadow: 0 1px 2px rgba(60, 64, 67, 0.3), 0 1px 3px 1px rgba(60, 64, 67, 0.15);\n",
              "    fill: var(--button-hover-fill-color);\n",
              "  }\n",
              "\n",
              "  .colab-df-quickchart-complete:disabled,\n",
              "  .colab-df-quickchart-complete:disabled:hover {\n",
              "    background-color: var(--disabled-bg-color);\n",
              "    fill: var(--disabled-fill-color);\n",
              "    box-shadow: none;\n",
              "  }\n",
              "\n",
              "  .colab-df-spinner {\n",
              "    border: 2px solid var(--fill-color);\n",
              "    border-color: transparent;\n",
              "    border-bottom-color: var(--fill-color);\n",
              "    animation:\n",
              "      spin 1s steps(1) infinite;\n",
              "  }\n",
              "\n",
              "  @keyframes spin {\n",
              "    0% {\n",
              "      border-color: transparent;\n",
              "      border-bottom-color: var(--fill-color);\n",
              "      border-left-color: var(--fill-color);\n",
              "    }\n",
              "    20% {\n",
              "      border-color: transparent;\n",
              "      border-left-color: var(--fill-color);\n",
              "      border-top-color: var(--fill-color);\n",
              "    }\n",
              "    30% {\n",
              "      border-color: transparent;\n",
              "      border-left-color: var(--fill-color);\n",
              "      border-top-color: var(--fill-color);\n",
              "      border-right-color: var(--fill-color);\n",
              "    }\n",
              "    40% {\n",
              "      border-color: transparent;\n",
              "      border-right-color: var(--fill-color);\n",
              "      border-top-color: var(--fill-color);\n",
              "    }\n",
              "    60% {\n",
              "      border-color: transparent;\n",
              "      border-right-color: var(--fill-color);\n",
              "    }\n",
              "    80% {\n",
              "      border-color: transparent;\n",
              "      border-right-color: var(--fill-color);\n",
              "      border-bottom-color: var(--fill-color);\n",
              "    }\n",
              "    90% {\n",
              "      border-color: transparent;\n",
              "      border-bottom-color: var(--fill-color);\n",
              "    }\n",
              "  }\n",
              "</style>\n",
              "\n",
              "  <script>\n",
              "    async function quickchart(key) {\n",
              "      const quickchartButtonEl =\n",
              "        document.querySelector('#' + key + ' button');\n",
              "      quickchartButtonEl.disabled = true;  // To prevent multiple clicks.\n",
              "      quickchartButtonEl.classList.add('colab-df-spinner');\n",
              "      try {\n",
              "        const charts = await google.colab.kernel.invokeFunction(\n",
              "            'suggestCharts', [key], {});\n",
              "      } catch (error) {\n",
              "        console.error('Error during call to suggestCharts:', error);\n",
              "      }\n",
              "      quickchartButtonEl.classList.remove('colab-df-spinner');\n",
              "      quickchartButtonEl.classList.add('colab-df-quickchart-complete');\n",
              "    }\n",
              "    (() => {\n",
              "      let quickchartButtonEl =\n",
              "        document.querySelector('#df-7a6a7583-2c28-4fe4-a087-d2a40cac280c button');\n",
              "      quickchartButtonEl.style.display =\n",
              "        google.colab.kernel.accessAllowed ? 'block' : 'none';\n",
              "    })();\n",
              "  </script>\n",
              "</div>\n",
              "    </div>\n",
              "  </div>\n"
            ],
            "text/plain": [
              "       user_id  item_id  rating  timestamp\n",
              "0            1        1       5  874965758\n",
              "1            1        2       3  876893171\n",
              "2            1        3       4  878542960\n",
              "3            1        4       3  876893119\n",
              "4            1        5       3  889751712\n",
              "...        ...      ...     ...        ...\n",
              "90565      943     1047       2  875502146\n",
              "90566      943     1074       4  888640250\n",
              "90567      943     1188       3  888640250\n",
              "90568      943     1228       3  888640275\n",
              "90569      943     1330       3  888692465\n",
              "\n",
              "[90570 rows x 4 columns]"
            ]
          },
          "execution_count": 5,
          "metadata": {},
          "output_type": "execute_result"
        }
      ],
      "source": [
        "# Load rated data. Take a split of the initial dataset\n",
        "ua_base = pd.read_csv(\"ml-100k/ua.base\",  sep=\"\\t\", header=None, names=[\"user_id\", \"item_id\", \"rating\", \"timestamp\"])\n",
        "ua_test = pd.read_csv(\"ml-100k/ua.test\",  sep=\"\\t\", header=None, names=[\"user_id\", \"item_id\", \"rating\", \"timestamp\"])\n",
        "\n",
        "ua_base"
      ]
    },
    {
      "cell_type": "code",
      "execution_count": null,
      "metadata": {
        "id": "877RUek6Z6Lx"
      },
      "outputs": [],
      "source": [
        "# Users and movies information\n",
        "# Index is an id\n",
        "users = pd.read_csv(\"ml-100k/u.user\",  sep=\"|\", header=None, names=[\"age\", \"gender\", \"occupation\", \"zip_code\"], index_col=0)\n",
        "genres = pd.read_csv(\"ml-100k/u.genre\",sep=\"|\", header=None, index_col=1)\n",
        "movies_columns = [\"movie_title\", \"release_date\", \"video_release_date\", \"IMDB_URL\"] + genres.index.astype(str).tolist()\n",
        "movies = pd.read_csv(\"ml-100k/u.item\",sep=\"|\", header=None, index_col=0, names=movies_columns,encoding='latin-1')"
      ]
    },
    {
      "cell_type": "code",
      "execution_count": null,
      "metadata": {
        "id": "3j_r3zG8LSFl"
      },
      "outputs": [],
      "source": [
        "from numpy import dot\n",
        "from numpy.linalg import norm\n",
        "import torch\n",
        "import tqdm"
      ]
    },
    {
      "cell_type": "code",
      "execution_count": null,
      "metadata": {
        "id": "Mx605jnmKtnP"
      },
      "outputs": [],
      "source": [
        "# join ua ub\n",
        "train_dataset = pd.read_csv(\"train_dataset.csv\", index_col=0)\n",
        "val_dataset = pd.read_csv(\"val_dataset.csv\", index_col=0)\n",
        "\n",
        "X_train = torch.tensor(train_dataset.loc[:, train_dataset.columns != 'rating'].values, dtype=torch.float)\n",
        "y_train = torch.tensor(train_dataset[\"rating\"].to_numpy())\n",
        "\n",
        "X_val = torch.tensor(val_dataset.loc[:, val_dataset.columns != 'rating'].values, dtype=torch.float)\n",
        "y_val = torch.tensor(val_dataset[\"rating\"].to_numpy())"
      ]
    },
    {
      "cell_type": "markdown",
      "metadata": {
        "id": "Yv_eC2NYST6e"
      },
      "source": [
        "# Main model\n",
        "\n",
        "Based on feed-forward neural network"
      ]
    },
    {
      "cell_type": "code",
      "execution_count": null,
      "metadata": {
        "id": "Yta3f55WST62"
      },
      "outputs": [],
      "source": [
        "model = torch.nn.Sequential(\n",
        "    torch.nn.Linear(in_features = 426, out_features = 150),\n",
        "    torch.nn.LeakyReLU(),\n",
        "    torch.nn.Dropout(0.5),\n",
        "    torch.nn.Linear(in_features = 150, out_features = 20),\n",
        "    torch.nn.ReLU(),\n",
        "    torch.nn.Dropout(0.5),\n",
        "    torch.nn.Linear(in_features = 20, out_features = 1),\n",
        "    torch.nn.Sigmoid()\n",
        ")\n",
        "device = torch.device('cuda:0' if torch.cuda.is_available() else 'cpu')\n",
        "model = model.to(device)\n",
        "\n",
        "X_train = X_train.to(device)\n",
        "y_train = y_train.to(device)\n",
        "\n",
        "X_val = X_val.to(device)\n",
        "y_val = y_val.to(device)\n",
        "\n",
        "train_loader = torch.utils.data.DataLoader(torch.utils.data.TensorDataset(X_train, y_train), batch_size=len(y_train), shuffle=True).to(device)"
      ]
    },
    {
      "cell_type": "code",
      "execution_count": null,
      "metadata": {
        "colab": {
          "base_uri": "https://localhost:8080/"
        },
        "id": "-H2eGkQ1TRPt",
        "outputId": "b224b675-7069-47ee-950e-ebd5928072cf"
      },
      "outputs": [
        {
          "data": {
            "text/plain": [
              "True"
            ]
          },
          "execution_count": 67,
          "metadata": {},
          "output_type": "execute_result"
        }
      ],
      "source": [
        "def threshold(inp, max_k):\n",
        "    # Convert continuous ratings to a discrete numbers\n",
        "    # inp - input vector of numbers\n",
        "    # max_k - maximal output rating\n",
        "    res = torch.zeros(inp.shape).to(device)\n",
        "    for i in range(1, max_k):\n",
        "        res += ((inp > i / max_k) & (inp <= (i+1) / max_k)).int() * i\n",
        "    return res\n",
        "\n",
        "all(threshold(y_train / 4, 5) == y_train)"
      ]
    },
    {
      "cell_type": "code",
      "execution_count": null,
      "metadata": {
        "id": "OPKN2ZPV3eMh"
      },
      "outputs": [],
      "source": [
        "def train(model, X_train, y_train, criterion, optimizer):\n",
        "    model.train()\n",
        "    optimizer.zero_grad()\n",
        "    y_pred = model(X_train).reshape(-1)\n",
        "    loss = criterion(y_pred, y_train/4)\n",
        "\n",
        "    # Backward pass and optimization\n",
        "    loss.backward()\n",
        "    optimizer.step()\n",
        "    cur_loss = loss.item()\n",
        "    return cur_loss\n",
        "\n",
        "def eval(model, X_val, y_val, criterion, optimizer):\n",
        "    model.eval()\n",
        "    with torch.no_grad():\n",
        "        y_pred = model(X_val).reshape(-1)\n",
        "        loss = criterion(y_pred, y_val / 4)\n",
        "        cur_loss = loss.item()\n",
        "        pred = threshold(y_pred, 2)\n",
        "        acc = torch.sum(pred == threshold(y_val / 4, 2))\n",
        "\n",
        "    return acc / len(y_val), cur_loss"
      ]
    },
    {
      "cell_type": "code",
      "execution_count": null,
      "metadata": {
        "colab": {
          "base_uri": "https://localhost:8080/"
        },
        "id": "EQTkR1wpKtXB",
        "outputId": "fbc8eca7-2684-47c5-8fb6-fd8f31b145c9"
      },
      "outputs": [
        {
          "name": "stderr",
          "output_type": "stream",
          "text": [
            "Loss: 0.04687:   0%|          | 1/350 [00:01<07:48,  1.34s/it]"
          ]
        },
        {
          "name": "stdout",
          "output_type": "stream",
          "text": [
            "\n",
            "Epoch [1/350], Accuracy: 0.5799575448036194, Loss: 0.04715486243367195\n",
            "\n"
          ]
        },
        {
          "name": "stderr",
          "output_type": "stream",
          "text": [
            "Loss: 0.03950:   7%|▋         | 25/350 [00:33<06:27,  1.19s/it]"
          ]
        },
        {
          "name": "stdout",
          "output_type": "stream",
          "text": [
            "\n",
            "Epoch [25/350], Accuracy: 0.5799575448036194, Loss: 0.03904370591044426\n",
            "\n"
          ]
        },
        {
          "name": "stderr",
          "output_type": "stream",
          "text": [
            "Loss: 0.03747:  14%|█▍        | 50/350 [01:04<06:46,  1.35s/it]"
          ]
        },
        {
          "name": "stdout",
          "output_type": "stream",
          "text": [
            "\n",
            "Epoch [50/350], Accuracy: 0.5799575448036194, Loss: 0.03676363453269005\n",
            "\n"
          ]
        },
        {
          "name": "stderr",
          "output_type": "stream",
          "text": [
            "Loss: 0.03529:  21%|██▏       | 75/350 [01:36<05:26,  1.19s/it]"
          ]
        },
        {
          "name": "stdout",
          "output_type": "stream",
          "text": [
            "\n",
            "Epoch [75/350], Accuracy: 0.5799575448036194, Loss: 0.03501265496015549\n",
            "Learning rate set to 0.0005\n",
            "\n"
          ]
        },
        {
          "name": "stderr",
          "output_type": "stream",
          "text": [
            "Loss: 0.03403:  29%|██▊       | 100/350 [02:06<04:49,  1.16s/it]"
          ]
        },
        {
          "name": "stdout",
          "output_type": "stream",
          "text": [
            "\n",
            "Epoch [100/350], Accuracy: 0.5946977734565735, Loss: 0.03396147862076759\n",
            "\n"
          ]
        },
        {
          "name": "stderr",
          "output_type": "stream",
          "text": [
            "Loss: 0.03288:  36%|███▌      | 125/350 [02:37<05:04,  1.35s/it]"
          ]
        },
        {
          "name": "stdout",
          "output_type": "stream",
          "text": [
            "\n",
            "Epoch [125/350], Accuracy: 0.6389183402061462, Loss: 0.03304295614361763\n",
            "\n"
          ]
        },
        {
          "name": "stderr",
          "output_type": "stream",
          "text": [
            "Loss: 0.03179:  43%|████▎     | 150/350 [03:08<03:57,  1.19s/it]"
          ]
        },
        {
          "name": "stdout",
          "output_type": "stream",
          "text": [
            "\n",
            "Epoch [150/350], Accuracy: 0.6459172368049622, Loss: 0.032285694032907486\n",
            "\n"
          ]
        },
        {
          "name": "stderr",
          "output_type": "stream",
          "text": [
            "Loss: 0.03097:  50%|█████     | 175/350 [03:39<03:20,  1.15s/it]"
          ]
        },
        {
          "name": "stdout",
          "output_type": "stream",
          "text": [
            "\n",
            "Epoch [175/350], Accuracy: 0.6529161930084229, Loss: 0.03170624375343323\n",
            "\n"
          ]
        },
        {
          "name": "stderr",
          "output_type": "stream",
          "text": [
            "Loss: 0.03014:  57%|█████▋    | 200/350 [04:11<03:27,  1.38s/it]"
          ]
        },
        {
          "name": "stdout",
          "output_type": "stream",
          "text": [
            "\n",
            "Epoch [200/350], Accuracy: 0.6581124067306519, Loss: 0.031094253063201904\n",
            "\n"
          ]
        },
        {
          "name": "stderr",
          "output_type": "stream",
          "text": [
            "Loss: 0.02950:  64%|██████▍   | 225/350 [04:42<02:33,  1.23s/it]"
          ]
        },
        {
          "name": "stdout",
          "output_type": "stream",
          "text": [
            "\n",
            "Epoch [225/350], Accuracy: 0.6635206341743469, Loss: 0.03063296712934971\n",
            "\n"
          ]
        },
        {
          "name": "stderr",
          "output_type": "stream",
          "text": [
            "Loss: 0.02895:  71%|███████▏  | 250/350 [05:13<01:56,  1.16s/it]"
          ]
        },
        {
          "name": "stdout",
          "output_type": "stream",
          "text": [
            "\n",
            "Epoch [250/350], Accuracy: 0.6648992300033569, Loss: 0.030282795429229736\n",
            "\n"
          ]
        },
        {
          "name": "stderr",
          "output_type": "stream",
          "text": [
            "Loss: 0.02850:  79%|███████▊  | 275/350 [05:45<01:41,  1.35s/it]"
          ]
        },
        {
          "name": "stdout",
          "output_type": "stream",
          "text": [
            "\n",
            "Epoch [275/350], Accuracy: 0.6696712374687195, Loss: 0.030032401904463768\n",
            "\n"
          ]
        },
        {
          "name": "stderr",
          "output_type": "stream",
          "text": [
            "Loss: 0.02817:  86%|████████▌ | 300/350 [06:15<00:59,  1.19s/it]"
          ]
        },
        {
          "name": "stdout",
          "output_type": "stream",
          "text": [
            "\n",
            "Epoch [300/350], Accuracy: 0.6733828186988831, Loss: 0.02988896332681179\n",
            "\n"
          ]
        },
        {
          "name": "stderr",
          "output_type": "stream",
          "text": [
            "Loss: 0.02791:  93%|█████████▎| 325/350 [06:45<00:28,  1.15s/it]"
          ]
        },
        {
          "name": "stdout",
          "output_type": "stream",
          "text": [
            "\n",
            "Epoch [325/350], Accuracy: 0.6734888553619385, Loss: 0.029788585379719734\n",
            "\n"
          ]
        },
        {
          "name": "stderr",
          "output_type": "stream",
          "text": [
            "Loss: 0.02769: 100%|██████████| 350/350 [07:16<00:00,  1.25s/it]"
          ]
        },
        {
          "name": "stdout",
          "output_type": "stream",
          "text": [
            "\n",
            "Epoch [350/350], Accuracy: 0.6761399507522583, Loss: 0.02971196547150612\n",
            "\n"
          ]
        },
        {
          "name": "stderr",
          "output_type": "stream",
          "text": [
            "\n"
          ]
        }
      ],
      "source": [
        "# Train the model\n",
        "criterion = torch.nn.HuberLoss()\n",
        "lr = 0.001\n",
        "optimizer = torch.optim.Adam(model.parameters(), lr=lr)\n",
        "\n",
        "num_epochs = 350\n",
        "val_tick = 25\n",
        "train_losses = []\n",
        "val_losses = []\n",
        "val_acc = []\n",
        "prev_acc = 0\n",
        "counter = 0\n",
        "pbar = tqdm.tqdm(range(num_epochs))\n",
        "\n",
        "for epoch in pbar:\n",
        "    # Forward pass\n",
        "    for X, y in train_loader:\n",
        "        cur_loss = train(model, X, y, criterion, optimizer)\n",
        "        pbar.set_description(f\"Loss: {cur_loss :.5f}\")\n",
        "\n",
        "    # Print the val loss every 100 epochs\n",
        "    if ((epoch+1) % val_tick == 0) or (epoch == 0) :\n",
        "        train_losses.append(cur_loss)\n",
        "\n",
        "        acc, cur_loss = eval(model, X_val, y_val, criterion, optimizer)\n",
        "        val_losses.append(cur_loss)\n",
        "        val_acc.append(acc.item())\n",
        "\n",
        "        print(f'\\nEpoch [{epoch+1}/{num_epochs}], Accuracy: {acc}, Loss: {cur_loss}' )\n",
        "\n",
        "        # Learning rate scheduler\n",
        "        if prev_acc >= acc:\n",
        "            counter += 1\n",
        "        if counter >= 3:\n",
        "            lr = lr / 2\n",
        "            print(f\"Learning rate set to {lr}\")\n",
        "            optimizer = torch.optim.Adam(model.parameters(), lr=lr)\n",
        "            counter = 0\n",
        "        prev_acc = acc\n",
        "        print()\n"
      ]
    },
    {
      "cell_type": "code",
      "execution_count": null,
      "metadata": {
        "id": "OQUyRdLKoBHj"
      },
      "outputs": [],
      "source": [
        "torch.save(model.state_dict(), \"model.pt\")"
      ]
    },
    {
      "cell_type": "markdown",
      "source": [
        "## Training visualization"
      ],
      "metadata": {
        "id": "T9LYfNOl-c6k"
      }
    },
    {
      "cell_type": "code",
      "execution_count": null,
      "metadata": {
        "colab": {
          "base_uri": "https://localhost:8080/",
          "height": 410
        },
        "id": "a744hHPXduO5",
        "outputId": "9c58981f-93aa-4b89-dabb-5e5e216e9ef5"
      },
      "outputs": [
        {
          "data": {
            "image/png": "[encoded data removed]",
            "text/plain": [
              "<Figure size 800x400 with 1 Axes>"
            ]
          },
          "metadata": {},
          "output_type": "display_data"
        }
      ],
      "source": [
        "def draw_loss(t_loss, val_loss):\n",
        "    global val_tick\n",
        "    # Plot train and validation loss\n",
        "    plt.figure(figsize=(8, 4))\n",
        "    xaxis = np.arange(0, len(t_loss) * val_tick, val_tick)\n",
        "    plt.plot(xaxis, t_loss, label='Training Loss')\n",
        "    plt.plot(xaxis, val_loss, label='Validation Loss')\n",
        "\n",
        "    # Add in a title and axes labels\n",
        "    plt.title('Training and Validation Loss')\n",
        "    plt.xlabel('Iteration')\n",
        "    plt.ylabel('Loss')\n",
        "\n",
        "    # Set the tick locations\n",
        "    plt.xticks(xaxis)\n",
        "\n",
        "    # Display the plot\n",
        "    plt.legend(loc='best')\n",
        "    plt.show()\n",
        "\n",
        "draw_loss(train_losses, val_losses)"
      ]
    },
    {
      "cell_type": "code",
      "execution_count": null,
      "metadata": {
        "colab": {
          "base_uri": "https://localhost:8080/",
          "height": 410
        },
        "id": "EYO05TUThank",
        "outputId": "8a1a26de-29d8-4a90-d5a1-19b82cfba811"
      },
      "outputs": [
        {
          "data": {
            "image/png": "[encoded data removed]",
            "text/plain": [
              "<Figure size 800x400 with 1 Axes>"
            ]
          },
          "metadata": {},
          "output_type": "display_data"
        }
      ],
      "source": [
        "def draw_accuracy(acc):\n",
        "    # Plot train and validation loss\n",
        "    plt.figure(figsize=(8, 4))\n",
        "    xaxis = np.arange(0, len(acc) * val_tick, val_tick)\n",
        "    plt.plot(xaxis, acc, label='Validation Accuracy')\n",
        "\n",
        "    # Add in a title and axes labels\n",
        "    plt.title('Validation Accuracy')\n",
        "    plt.xlabel('Iteration')\n",
        "    plt.ylabel('Loss')\n",
        "\n",
        "    # Set the tick locations\n",
        "    plt.xticks(xaxis)\n",
        "\n",
        "    # Display the plot\n",
        "    plt.legend(loc='best')\n",
        "    plt.show()\n",
        "\n",
        "draw_accuracy(val_acc)"
      ]
    },
    {
      "cell_type": "markdown",
      "metadata": {
        "id": "2B5w5FyRGqWp"
      },
      "source": [
        "# Evaluation"
      ]
    },
    {
      "cell_type": "code",
      "execution_count": null,
      "metadata": {
        "id": "7FxjgPIuRu-W"
      },
      "outputs": [],
      "source": [
        "def predict(model, df):\n",
        "    model = model.to(device)\n",
        "    X = torch.tensor(df.values).float().to(device)\n",
        "    model.eval()\n",
        "    with torch.no_grad():\n",
        "        y_pred = model(X).reshape(-1).cpu().detach().numpy()\n",
        "        # pred = threshold(y_pred.detach().numpy(), 5)\n",
        "    return y_pred\n",
        "\n",
        "pred = predict(model, val_dataset.drop(\"rating\", axis=1).loc[1:3])"
      ]
    },
    {
      "cell_type": "code",
      "execution_count": null,
      "metadata": {
        "id": "cUHVE8B52yuu"
      },
      "outputs": [],
      "source": [
        "def evaluate_ratings_recomendations(pred, true_y):\n",
        "    print(\"MAE:\", mean_absolute_error(true_y, pred))\n",
        "    print(\"MSE:\", mean_squared_error(true_y, pred, squared=True))\n",
        "    print(\"RMSE:\", mean_squared_error(true_y, pred, squared=False))"
      ]
    },
    {
      "cell_type": "code",
      "execution_count": null,
      "metadata": {
        "colab": {
          "base_uri": "https://localhost:8080/"
        },
        "id": "3rxUX_ZnkRVf",
        "outputId": "d7fe6584-468f-4c17-b950-ea733684c77e"
      },
      "outputs": [
        {
          "name": "stdout",
          "output_type": "stream",
          "text": [
            "Evaluation of normalized ratings:\n",
            "MAE: 0.17225577433904013\n",
            "MSE: 0.04172060527181406\n",
            "RMSE: 0.20425622456075618\n"
          ]
        }
      ],
      "source": [
        "print(\"Evaluation of normalized ratings:\")\n",
        "evaluate_ratings_recomendations(pred, (val_dataset.loc[1:3, \"rating\"].values)/4)"
      ]
    },
    {
      "cell_type": "code",
      "execution_count": null,
      "metadata": {
        "colab": {
          "base_uri": "https://localhost:8080/"
        },
        "id": "mXcGpVTq2YU5",
        "outputId": "3938b56b-ab7d-4b67-fa51-ceacf8e49ff9"
      },
      "outputs": [
        {
          "name": "stdout",
          "output_type": "stream",
          "text": [
            "Evaluation of initial ratings:\n",
            "MAE: 0.6890230973561605\n",
            "MSE: 0.6675296843490249\n",
            "RMSE: 0.8170248982430247\n"
          ]
        }
      ],
      "source": [
        "print(\"Evaluation of initial ratings:\")\n",
        "evaluate_ratings_recomendations(pred * 4 + 1, val_dataset.loc[1:3, \"rating\"].values + 1)"
      ]
    },
    {
      "cell_type": "code",
      "execution_count": null,
      "metadata": {
        "colab": {
          "base_uri": "https://localhost:8080/"
        },
        "id": "n5rwz0kdIuKq",
        "outputId": "010e6380-e81f-4835-b9a5-936c5144c8c4"
      },
      "outputs": [
        {
          "name": "stdout",
          "output_type": "stream",
          "text": [
            "Recommended movies for user 21 are\n",
            "Wrong Trousers, The (1993)\n",
            "Santa with Muscles (1996)\n",
            "Schindler's List (1993)\n",
            "Citizen Kane (1941)\n",
            "They Made Me a Criminal (1939)\n",
            "Casablanca (1942)\n",
            "Usual Suspects, The (1995)\n",
            "Rear Window (1954)\n",
            "Third Man, The (1949)\n",
            "One Flew Over the Cuckoo's Nest (1975)\n"
          ]
        }
      ],
      "source": [
        "def recommend_movies(user_id, k=5):\n",
        "    global ua_base, ua_test, train_dataset\n",
        "    # Predict movies unseen by user before\n",
        "    # Both in train and test modes\n",
        "    watched_movies = ua_base[ua_base[\"user_id\"] == user_id][\"item_id\"].to_numpy()\n",
        "    watched_movies_1 = ua_test[ua_test[\"user_id\"] == user_id][\"item_id\"].to_numpy()\n",
        "    watched_movies = np.unique(np.concatenate((watched_movies, watched_movies_1),0))\n",
        "\n",
        "    # Prepare a data to put in a model\n",
        "    df = processed_movies.drop(watched_movies, axis=0)\n",
        "    df[\"item_id\"] = df.index.copy()\n",
        "    df[\"user_id\"] = user_id\n",
        "    df = df.merge(processed_users, left_on=\"user_id\", right_index=True)\n",
        "    df = df.drop(\"user_id\", axis=1).reset_index(drop=True)\n",
        "\n",
        "    # Predict movies ratings\n",
        "    preds = predict(model, df[train_dataset.drop(\"rating\", axis=1).columns])\n",
        "    # Take ids of the top-rated movies\n",
        "    res = df.loc[np.argsort(-preds)][\"item_id\"].values[:k]\n",
        "\n",
        "    print(f\"Recommended movies for user {user_id} are\")\n",
        "    for ind in res:\n",
        "        print(movies.loc[ind, \"movie_title\"])\n",
        "\n",
        "recommend_movies(21, k=10)"
      ]
    }
  ],
  "metadata": {
    "colab": {
      "collapsed_sections": [
        "yxi7qUoUwHet",
        "i9afiJlUyFM1",
        "W9X8rOCFyNQn",
        "IhfJBpGEjRfJ",
        "RfxEhCaB6JYD",
        "g1q0RL0kjEaZ",
        "Yv_eC2NYST6e",
        "2B5w5FyRGqWp"
      ],
      "provenance": []
    },
    "kernelspec": {
      "display_name": "Python 3 (ipykernel)",
      "language": "python",
      "name": "python3"
    },
    "language_info": {
      "codemirror_mode": {
        "name": "ipython",
        "version": 3
      },
      "file_extension": ".py",
      "mimetype": "text/x-python",
      "name": "python",
      "nbconvert_exporter": "python",
      "pygments_lexer": "ipython3",
      "version": "3.9.13"
    }
  },
  "nbformat": 4,
  "nbformat_minor": 0
}